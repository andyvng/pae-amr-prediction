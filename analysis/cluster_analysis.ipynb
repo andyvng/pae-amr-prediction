{
 "cells": [
  {
   "cell_type": "code",
   "execution_count": null,
   "metadata": {},
   "outputs": [],
   "source": [
    "import os\n",
    "import pandas as pd\n",
    "import numpy as np\n",
    "import matplotlib.pyplot as plt\n",
    "import matplotlib.patches as patches\n",
    "import seaborn as sns\n",
    "\n",
    "import torch\n",
    "from torch import nn, optim\n",
    "from torch.utils.data import DataLoader\n",
    "from torch.utils.data import WeightedRandomSampler\n",
    "from models import VanillaAutoEncoder, VariationalAutoEncoder\n",
    "\n",
    "import umap\n",
    "import umap.plot\n",
    "import hdbscan\n",
    "import sklearn.datasets\n",
    "from sklearn.cluster import KMeans\n",
    "from sklearn.mixture import GaussianMixture\n",
    "\n",
    "\n",
    "from sklearn.model_selection import train_test_split"
   ]
  },
  {
   "attachments": {},
   "cell_type": "markdown",
   "metadata": {},
   "source": [
    "# Visualise latent space"
   ]
  },
  {
   "cell_type": "code",
   "execution_count": null,
   "metadata": {},
   "outputs": [],
   "source": [
    "input_shape = 18000\n",
    "latent_shape = 16\n",
    "\n",
    "m_state_dict = torch.load('../experiments/results/latent_learning/driams_variational_epoch_20.pt', map_location=torch.device('cpu'))\n",
    "model_new = VariationalAutoEncoder(input_shape, latent_shape)\n",
    "\n",
    "model_new.load_state_dict(m_state_dict)"
   ]
  },
  {
   "cell_type": "code",
   "execution_count": null,
   "metadata": {},
   "outputs": [],
   "source": [
    "# Loading DRIAMS and Alfred data\n",
    "\n",
    "pae_driams = pd.read_csv('/Volumes/T7/MALDI_TOF/DRIAMS/pae_driams.csv')\n",
    "pae_alfred_whole = pd.read_csv('/Volumes/T7/MALDI_TOF/DRIAMS/pae_alfred.csv')\n",
    "\n",
    "alfred_train_ids = pd.read_csv(\"/Users/Andy/Dropbox/git_repos/Alfred_data/MALDI-TOF/alfred_train_ids.txt\", header=None).values.flatten()\n",
    "\n",
    "alfred_test_ids = pd.read_csv(\"/Users/Andy/Dropbox/git_repos/Alfred_data/MALDI-TOF/alfred_test_ids.txt\", header=None).values.flatten()\n",
    "\n",
    "pae_alfred = pae_alfred_whole.copy()[pae_alfred_whole['id'].isin(alfred_train_ids)]\n",
    "pae_alfred_test = pae_alfred_whole.copy()[pae_alfred_whole['id'].isin(alfred_test_ids)]\n",
    "\n",
    "alfred_antimicrobials = list(pae_alfred.columns[18001:].values)"
   ]
  },
  {
   "cell_type": "code",
   "execution_count": null,
   "metadata": {},
   "outputs": [],
   "source": [
    "antimicrobials = {\"meropenem\": \"Meropenem\", \n",
    "                  \"amikacin\": \"Amikacin\", \n",
    "                  \"aztreonam\": \"Aztreonam\", \n",
    "                  \"ciprofloxacin\": \"Ciprofloxacin\",\n",
    "                  \"piperacillin_tazobactam\": \"Piperacillin/tazobactam\", \n",
    "                  \"ceftolozane_tazobactam\": \"Ceftolozane/tazobactam\",\n",
    "                  \"colistin\": \"Colistin\", \n",
    "                  \"tobramycin\": \"Tobramycin\", \n",
    "                  \"ceftazidime\": \"Ceftazidime\",\n",
    "                  \"ceftazidime_avibactam\": \"Ceftazidime/avibactam\", \n",
    "                  \"imipenem\": \"Imipenem\"}"
   ]
  },
  {
   "cell_type": "code",
   "execution_count": null,
   "metadata": {},
   "outputs": [],
   "source": [
    "max_intensity=0.009055 # Normalizing factor\n",
    "X_cols = [str(2000 + i) for i in range(18000)]\n",
    "alfred_X = torch.tensor(pae_alfred[X_cols].to_numpy() / max_intensity)\n",
    "alfred_X_test = torch.tensor(pae_alfred_test[X_cols].to_numpy() / max_intensity)\n"
   ]
  },
  {
   "cell_type": "code",
   "execution_count": null,
   "metadata": {},
   "outputs": [],
   "source": [
    "with torch.no_grad():\n",
    "    Z, mu, logvar = model_new.encoder(alfred_X.float())\n",
    "    Z_test, _, _ = model_new.encoder(alfred_X_test.float())\n",
    "mapper = umap.UMAP(n_neighbors=20, random_state=333).fit(Z)  # Initial seed=333\n",
    "\n",
    "umap_values = mapper.transform(Z)\n",
    "umap_alfred_test_values = mapper.transform(Z_test)"
   ]
  },
  {
   "cell_type": "code",
   "execution_count": null,
   "metadata": {},
   "outputs": [],
   "source": [
    "counter = 0\n",
    "nrows = 3\n",
    "ncols = 4\n",
    "\n",
    "fig, ax = umap.plot.plt.subplots(nrows, ncols, figsize=(18,13), dpi=300)\n",
    "\n",
    "for row_idx in range(nrows):\n",
    "    for col_idx in range(ncols):\n",
    "        tmp_ax = ax[row_idx, col_idx]\n",
    "        if counter == len(alfred_antimicrobials):\n",
    "            tmp_ax.set_facecolor('ivory')\n",
    "            tmp_ax.set(xlabel=None, ylabel=None)\n",
    "            tmp_ax.set_xticks([])\n",
    "            tmp_ax.set_yticks([])\n",
    "            break\n",
    "        else:\n",
    "            antimicrobial = sorted(alfred_antimicrobials)[counter]\n",
    "            label = pae_alfred[antimicrobial].values\n",
    "            to_ast_label  = lambda t: 'Susceptible' if t == 0 else \"Resistant\"\n",
    "            to_ast_func = np.vectorize(to_ast_label)\n",
    "            label = to_ast_func(label)\n",
    "            umap.plot.points(mapper, \n",
    "                             labels=label,\n",
    "                             color_key_cmap='RdYlBu',\n",
    "                             background='beige',\n",
    "                             ax=tmp_ax)\n",
    "            rect1 = patches.Rectangle((4.7, 7.3), 7, 2.5, linewidth=1,  edgecolor='orangered', facecolor='none')\n",
    "            # rect1 = patches.Rectangle((-5.54, 0.1), 3, 4.8, linewidth=1,  edgecolor='yellow', facecolor='none')\n",
    "            # rect2 = patches.Rectangle((11.5, 3), 3, 6, linewidth=1,  edgecolor='orange', facecolor='none')\n",
    "            # tmp_ax.add_patch(rect1)\n",
    "            # tmp_ax.add_patch(rect2)\n",
    "            tmp_ax.set_xlabel(antimicrobials[antimicrobial], \n",
    "                              fontweight='bold', \n",
    "                              fontsize=14)\n",
    "            # tmp_ax.plot(X_sample[:40], \n",
    "            #             Y_sample[:40], \n",
    "            #             'gs')\n",
    "            # tmp_ax.plot(umap_alfred_test_values[:, 0], \n",
    "            #             umap_alfred_test_values[:, 1], \n",
    "            #             'gs')\n",
    "\n",
    "        counter += 1\n",
    "\n",
    "fig.patch.set_facecolor('azure')\n",
    "plt.tight_layout()"
   ]
  },
  {
   "attachments": {},
   "cell_type": "markdown",
   "metadata": {},
   "source": [
    "# Clustering algorithm"
   ]
  },
  {
   "cell_type": "code",
   "execution_count": null,
   "metadata": {},
   "outputs": [],
   "source": [
    "# Determine optimal number of clusters by elbow method\n",
    "from yellowbrick.cluster import KElbowVisualizer\n",
    "\n",
    "model = KMeans(random_state=222)\n",
    "\n",
    "visualizer = KElbowVisualizer(model, k=20, timings=False, metric='distortion')\n",
    "visualizer.fit(umap_values)\n",
    "print(f\"Elbow value: {visualizer.elbow_value_}\")\n",
    "visualizer.ax.set_xticks(np.arange(0, 21, 1))\n",
    "visualizer.ax.set_xlabel(\"Number of clusters\")\n",
    "visualizer.show()\n",
    "\n",
    "plt.show()"
   ]
  },
  {
   "cell_type": "code",
   "execution_count": null,
   "metadata": {},
   "outputs": [],
   "source": [
    "kmeans = KMeans(n_clusters=visualizer.elbow_value_, \n",
    "                random_state=222).fit(umap_values)\n",
    "\n",
    "test_labels = kmeans.predict(umap_alfred_test_values)"
   ]
  },
  {
   "cell_type": "code",
   "execution_count": null,
   "metadata": {},
   "outputs": [],
   "source": [
    "fig, ax = plt.subplots(figsize=(12, 12), dpi=75)\n",
    "\n",
    "ax = sns.scatterplot(umap_values[:,0], \n",
    "                     umap_values[:,1], \n",
    "                     marker='s',\n",
    "                     hue=kmeans.labels_, \n",
    "                     palette='tab10',\n",
    "                     label='Cluster',\n",
    "                     alpha=0.3)\n",
    "\n",
    "ax.set_facecolor('azure')\n",
    "ax.grid(False)\n",
    "ax.legend(fontsize=14)\n",
    "ax.set_xticks([])\n",
    "ax.set_yticks([])\n",
    "plt.show()"
   ]
  }
 ],
 "metadata": {
  "kernelspec": {
   "display_name": "Python 3",
   "language": "python",
   "name": "python3"
  },
  "language_info": {
   "name": "python",
   "version": "3.9.13"
  },
  "orig_nbformat": 4,
  "vscode": {
   "interpreter": {
    "hash": "b80d7a05ee0c4611fa294e6233e89e11d577da0aa199b215b13385010a0e2501"
   }
  }
 },
 "nbformat": 4,
 "nbformat_minor": 2
}
